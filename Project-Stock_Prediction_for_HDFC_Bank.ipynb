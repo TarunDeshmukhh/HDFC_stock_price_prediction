{
 "cells": [
  {
   "cell_type": "code",
   "execution_count": 2,
   "id": "incorporated-research",
   "metadata": {},
   "outputs": [],
   "source": [
    "#call libraries\n",
    "import numpy as np\n",
    "import matplotlib.pyplot as plt\n",
    "import pandas as pd\n",
    "from tensorflow.keras.models import Sequential\n",
    "from tensorflow.keras.layers import Dense\n",
    "from tensorflow.keras.layers import LSTM, GRU\n",
    "from sklearn.metrics import mean_squared_error"
   ]
  },
  {
   "cell_type": "code",
   "execution_count": 3,
   "id": "touched-argentina",
   "metadata": {},
   "outputs": [],
   "source": [
    "df = pd.read_csv(\"HDFCBANK.csv\")"
   ]
  },
  {
   "cell_type": "code",
   "execution_count": 4,
   "id": "careful-caution",
   "metadata": {},
   "outputs": [
    {
     "data": {
      "text/html": [
       "<div>\n",
       "<style scoped>\n",
       "    .dataframe tbody tr th:only-of-type {\n",
       "        vertical-align: middle;\n",
       "    }\n",
       "\n",
       "    .dataframe tbody tr th {\n",
       "        vertical-align: top;\n",
       "    }\n",
       "\n",
       "    .dataframe thead th {\n",
       "        text-align: right;\n",
       "    }\n",
       "</style>\n",
       "<table border=\"1\" class=\"dataframe\">\n",
       "  <thead>\n",
       "    <tr style=\"text-align: right;\">\n",
       "      <th></th>\n",
       "      <th>Date</th>\n",
       "      <th>Symbol</th>\n",
       "      <th>Series</th>\n",
       "      <th>Prev Close</th>\n",
       "      <th>Open</th>\n",
       "      <th>High</th>\n",
       "      <th>Low</th>\n",
       "      <th>Last</th>\n",
       "      <th>Close</th>\n",
       "      <th>VWAP</th>\n",
       "      <th>Volume</th>\n",
       "      <th>Turnover</th>\n",
       "      <th>Trades</th>\n",
       "      <th>Deliverable Volume</th>\n",
       "      <th>%Deliverble</th>\n",
       "    </tr>\n",
       "  </thead>\n",
       "  <tbody>\n",
       "    <tr>\n",
       "      <th>0</th>\n",
       "      <td>2000-01-03</td>\n",
       "      <td>HDFCBANK</td>\n",
       "      <td>EQ</td>\n",
       "      <td>157.40</td>\n",
       "      <td>166.00</td>\n",
       "      <td>170.00</td>\n",
       "      <td>166.00</td>\n",
       "      <td>170.00</td>\n",
       "      <td>170.00</td>\n",
       "      <td>169.52</td>\n",
       "      <td>33259</td>\n",
       "      <td>5.638122e+11</td>\n",
       "      <td>NaN</td>\n",
       "      <td>NaN</td>\n",
       "      <td>NaN</td>\n",
       "    </tr>\n",
       "    <tr>\n",
       "      <th>1</th>\n",
       "      <td>2000-01-04</td>\n",
       "      <td>HDFCBANK</td>\n",
       "      <td>EQ</td>\n",
       "      <td>170.00</td>\n",
       "      <td>182.00</td>\n",
       "      <td>183.45</td>\n",
       "      <td>171.00</td>\n",
       "      <td>174.00</td>\n",
       "      <td>173.80</td>\n",
       "      <td>174.99</td>\n",
       "      <td>168710</td>\n",
       "      <td>2.952261e+12</td>\n",
       "      <td>NaN</td>\n",
       "      <td>NaN</td>\n",
       "      <td>NaN</td>\n",
       "    </tr>\n",
       "    <tr>\n",
       "      <th>2</th>\n",
       "      <td>2000-01-05</td>\n",
       "      <td>HDFCBANK</td>\n",
       "      <td>EQ</td>\n",
       "      <td>173.80</td>\n",
       "      <td>170.00</td>\n",
       "      <td>173.90</td>\n",
       "      <td>165.00</td>\n",
       "      <td>168.00</td>\n",
       "      <td>166.95</td>\n",
       "      <td>169.20</td>\n",
       "      <td>159820</td>\n",
       "      <td>2.704094e+12</td>\n",
       "      <td>NaN</td>\n",
       "      <td>NaN</td>\n",
       "      <td>NaN</td>\n",
       "    </tr>\n",
       "    <tr>\n",
       "      <th>3</th>\n",
       "      <td>2000-01-06</td>\n",
       "      <td>HDFCBANK</td>\n",
       "      <td>EQ</td>\n",
       "      <td>166.95</td>\n",
       "      <td>168.00</td>\n",
       "      <td>170.00</td>\n",
       "      <td>165.30</td>\n",
       "      <td>168.95</td>\n",
       "      <td>168.30</td>\n",
       "      <td>168.44</td>\n",
       "      <td>85026</td>\n",
       "      <td>1.432166e+12</td>\n",
       "      <td>NaN</td>\n",
       "      <td>NaN</td>\n",
       "      <td>NaN</td>\n",
       "    </tr>\n",
       "    <tr>\n",
       "      <th>4</th>\n",
       "      <td>2000-01-07</td>\n",
       "      <td>HDFCBANK</td>\n",
       "      <td>EQ</td>\n",
       "      <td>168.30</td>\n",
       "      <td>162.15</td>\n",
       "      <td>171.00</td>\n",
       "      <td>162.15</td>\n",
       "      <td>170.75</td>\n",
       "      <td>168.35</td>\n",
       "      <td>166.79</td>\n",
       "      <td>85144</td>\n",
       "      <td>1.420158e+12</td>\n",
       "      <td>NaN</td>\n",
       "      <td>NaN</td>\n",
       "      <td>NaN</td>\n",
       "    </tr>\n",
       "  </tbody>\n",
       "</table>\n",
       "</div>"
      ],
      "text/plain": [
       "         Date    Symbol Series  Prev Close    Open    High     Low    Last  \\\n",
       "0  2000-01-03  HDFCBANK     EQ      157.40  166.00  170.00  166.00  170.00   \n",
       "1  2000-01-04  HDFCBANK     EQ      170.00  182.00  183.45  171.00  174.00   \n",
       "2  2000-01-05  HDFCBANK     EQ      173.80  170.00  173.90  165.00  168.00   \n",
       "3  2000-01-06  HDFCBANK     EQ      166.95  168.00  170.00  165.30  168.95   \n",
       "4  2000-01-07  HDFCBANK     EQ      168.30  162.15  171.00  162.15  170.75   \n",
       "\n",
       "    Close    VWAP  Volume      Turnover  Trades  Deliverable Volume  \\\n",
       "0  170.00  169.52   33259  5.638122e+11     NaN                 NaN   \n",
       "1  173.80  174.99  168710  2.952261e+12     NaN                 NaN   \n",
       "2  166.95  169.20  159820  2.704094e+12     NaN                 NaN   \n",
       "3  168.30  168.44   85026  1.432166e+12     NaN                 NaN   \n",
       "4  168.35  166.79   85144  1.420158e+12     NaN                 NaN   \n",
       "\n",
       "   %Deliverble  \n",
       "0          NaN  \n",
       "1          NaN  \n",
       "2          NaN  \n",
       "3          NaN  \n",
       "4          NaN  "
      ]
     },
     "execution_count": 4,
     "metadata": {},
     "output_type": "execute_result"
    }
   ],
   "source": [
    "df.head()"
   ]
  },
  {
   "cell_type": "code",
   "execution_count": 5,
   "id": "potential-dominican",
   "metadata": {},
   "outputs": [
    {
     "data": {
      "text/html": [
       "<div>\n",
       "<style scoped>\n",
       "    .dataframe tbody tr th:only-of-type {\n",
       "        vertical-align: middle;\n",
       "    }\n",
       "\n",
       "    .dataframe tbody tr th {\n",
       "        vertical-align: top;\n",
       "    }\n",
       "\n",
       "    .dataframe thead th {\n",
       "        text-align: right;\n",
       "    }\n",
       "</style>\n",
       "<table border=\"1\" class=\"dataframe\">\n",
       "  <thead>\n",
       "    <tr style=\"text-align: right;\">\n",
       "      <th></th>\n",
       "      <th>Date</th>\n",
       "      <th>Symbol</th>\n",
       "      <th>Series</th>\n",
       "      <th>Prev Close</th>\n",
       "      <th>Open</th>\n",
       "      <th>High</th>\n",
       "      <th>Low</th>\n",
       "      <th>Last</th>\n",
       "      <th>Close</th>\n",
       "      <th>VWAP</th>\n",
       "      <th>Volume</th>\n",
       "      <th>Turnover</th>\n",
       "      <th>Trades</th>\n",
       "      <th>Deliverable Volume</th>\n",
       "      <th>%Deliverble</th>\n",
       "    </tr>\n",
       "  </thead>\n",
       "  <tbody>\n",
       "    <tr>\n",
       "      <th>5199</th>\n",
       "      <td>2020-11-23</td>\n",
       "      <td>HDFCBANK</td>\n",
       "      <td>EQ</td>\n",
       "      <td>1403.65</td>\n",
       "      <td>1415.0</td>\n",
       "      <td>1423.65</td>\n",
       "      <td>1375.35</td>\n",
       "      <td>1397.3</td>\n",
       "      <td>1394.60</td>\n",
       "      <td>1398.55</td>\n",
       "      <td>12623318</td>\n",
       "      <td>1.765438e+15</td>\n",
       "      <td>297107.0</td>\n",
       "      <td>5172382.0</td>\n",
       "      <td>0.4097</td>\n",
       "    </tr>\n",
       "    <tr>\n",
       "      <th>5200</th>\n",
       "      <td>2020-11-24</td>\n",
       "      <td>HDFCBANK</td>\n",
       "      <td>EQ</td>\n",
       "      <td>1394.60</td>\n",
       "      <td>1408.0</td>\n",
       "      <td>1445.00</td>\n",
       "      <td>1402.05</td>\n",
       "      <td>1444.0</td>\n",
       "      <td>1438.20</td>\n",
       "      <td>1430.00</td>\n",
       "      <td>20077200</td>\n",
       "      <td>2.871049e+15</td>\n",
       "      <td>341801.0</td>\n",
       "      <td>10998578.0</td>\n",
       "      <td>0.5478</td>\n",
       "    </tr>\n",
       "    <tr>\n",
       "      <th>5201</th>\n",
       "      <td>2020-11-25</td>\n",
       "      <td>HDFCBANK</td>\n",
       "      <td>EQ</td>\n",
       "      <td>1438.20</td>\n",
       "      <td>1451.3</td>\n",
       "      <td>1464.40</td>\n",
       "      <td>1397.00</td>\n",
       "      <td>1406.5</td>\n",
       "      <td>1402.80</td>\n",
       "      <td>1431.81</td>\n",
       "      <td>12076301</td>\n",
       "      <td>1.729097e+15</td>\n",
       "      <td>310836.0</td>\n",
       "      <td>3864872.0</td>\n",
       "      <td>0.3200</td>\n",
       "    </tr>\n",
       "    <tr>\n",
       "      <th>5202</th>\n",
       "      <td>2020-11-26</td>\n",
       "      <td>HDFCBANK</td>\n",
       "      <td>EQ</td>\n",
       "      <td>1402.80</td>\n",
       "      <td>1415.0</td>\n",
       "      <td>1432.00</td>\n",
       "      <td>1387.00</td>\n",
       "      <td>1431.9</td>\n",
       "      <td>1426.65</td>\n",
       "      <td>1410.64</td>\n",
       "      <td>13971563</td>\n",
       "      <td>1.970889e+15</td>\n",
       "      <td>269679.0</td>\n",
       "      <td>3873907.0</td>\n",
       "      <td>0.2773</td>\n",
       "    </tr>\n",
       "    <tr>\n",
       "      <th>5203</th>\n",
       "      <td>2020-11-27</td>\n",
       "      <td>HDFCBANK</td>\n",
       "      <td>EQ</td>\n",
       "      <td>1426.65</td>\n",
       "      <td>1431.8</td>\n",
       "      <td>1446.00</td>\n",
       "      <td>1415.55</td>\n",
       "      <td>1438.0</td>\n",
       "      <td>1440.85</td>\n",
       "      <td>1429.86</td>\n",
       "      <td>8997290</td>\n",
       "      <td>1.286483e+15</td>\n",
       "      <td>174132.0</td>\n",
       "      <td>2947164.0</td>\n",
       "      <td>0.3276</td>\n",
       "    </tr>\n",
       "  </tbody>\n",
       "</table>\n",
       "</div>"
      ],
      "text/plain": [
       "            Date    Symbol Series  Prev Close    Open     High      Low  \\\n",
       "5199  2020-11-23  HDFCBANK     EQ     1403.65  1415.0  1423.65  1375.35   \n",
       "5200  2020-11-24  HDFCBANK     EQ     1394.60  1408.0  1445.00  1402.05   \n",
       "5201  2020-11-25  HDFCBANK     EQ     1438.20  1451.3  1464.40  1397.00   \n",
       "5202  2020-11-26  HDFCBANK     EQ     1402.80  1415.0  1432.00  1387.00   \n",
       "5203  2020-11-27  HDFCBANK     EQ     1426.65  1431.8  1446.00  1415.55   \n",
       "\n",
       "        Last    Close     VWAP    Volume      Turnover    Trades  \\\n",
       "5199  1397.3  1394.60  1398.55  12623318  1.765438e+15  297107.0   \n",
       "5200  1444.0  1438.20  1430.00  20077200  2.871049e+15  341801.0   \n",
       "5201  1406.5  1402.80  1431.81  12076301  1.729097e+15  310836.0   \n",
       "5202  1431.9  1426.65  1410.64  13971563  1.970889e+15  269679.0   \n",
       "5203  1438.0  1440.85  1429.86   8997290  1.286483e+15  174132.0   \n",
       "\n",
       "      Deliverable Volume  %Deliverble  \n",
       "5199           5172382.0       0.4097  \n",
       "5200          10998578.0       0.5478  \n",
       "5201           3864872.0       0.3200  \n",
       "5202           3873907.0       0.2773  \n",
       "5203           2947164.0       0.3276  "
      ]
     },
     "execution_count": 5,
     "metadata": {},
     "output_type": "execute_result"
    }
   ],
   "source": [
    "df.tail()"
   ]
  },
  {
   "cell_type": "code",
   "execution_count": 6,
   "id": "polar-grain",
   "metadata": {},
   "outputs": [
    {
     "data": {
      "text/plain": [
       "(5204, 15)"
      ]
     },
     "execution_count": 6,
     "metadata": {},
     "output_type": "execute_result"
    }
   ],
   "source": [
    "df.shape"
   ]
  },
  {
   "cell_type": "code",
   "execution_count": 7,
   "id": "rising-opening",
   "metadata": {},
   "outputs": [],
   "source": [
    "stock=df['Close']"
   ]
  },
  {
   "cell_type": "code",
   "execution_count": 8,
   "id": "public-salvation",
   "metadata": {},
   "outputs": [
    {
     "data": {
      "text/plain": [
       "0    170.00\n",
       "1    173.80\n",
       "2    166.95\n",
       "3    168.30\n",
       "4    168.35\n",
       "Name: Close, dtype: float64"
      ]
     },
     "execution_count": 8,
     "metadata": {},
     "output_type": "execute_result"
    }
   ],
   "source": [
    "stock.head()"
   ]
  },
  {
   "cell_type": "code",
   "execution_count": 10,
   "id": "moderate-acting",
   "metadata": {},
   "outputs": [
    {
     "data": {
      "image/png": "[encoded data removed]",
      "text/plain": [
       "<Figure size 432x288 with 1 Axes>"
      ]
     },
     "metadata": {
      "needs_background": "light"
     },
     "output_type": "display_data"
    }
   ],
   "source": [
    "plt.plot(stock)\n",
    "plt.show()"
   ]
  },
  {
   "cell_type": "code",
   "execution_count": 11,
   "id": "fitting-exhibit",
   "metadata": {},
   "outputs": [],
   "source": [
    "#Minmax Scaling\n",
    "def minmax(X):\n",
    "  return (X - X.min())/ (X.max() - X.min())\n",
    "\n",
    "stock_scaled = minmax(stock)"
   ]
  },
  {
   "cell_type": "code",
   "execution_count": 12,
   "id": "satisfactory-volume",
   "metadata": {},
   "outputs": [],
   "source": [
    "train = stock_scaled.head(3642)\n",
    "test = stock_scaled.tail(1562)"
   ]
  },
  {
   "cell_type": "code",
   "execution_count": 13,
   "id": "competitive-ethernet",
   "metadata": {},
   "outputs": [],
   "source": [
    "# Prepare data\n",
    "def prepare_data(data, time_step):\n",
    "    X, y =[],[]\n",
    "    for i in range(len(data)):\n",
    "        # find the end of this pattern\n",
    "        end_ix = i + time_step\n",
    "        # check if we are beyond the sequence\n",
    "        if end_ix > len(data)-1:\n",
    "            break\n",
    "        # gather input and output parts of the pattern\n",
    "        seq_x, seq_y = data[i:end_ix], data[end_ix]\n",
    "        X.append(seq_x)\n",
    "        y.append(seq_y)\n",
    "    return np.array(X), np.array(y)"
   ]
  },
  {
   "cell_type": "code",
   "execution_count": 14,
   "id": "macro-failure",
   "metadata": {},
   "outputs": [],
   "source": [
    "time_step = 100\n",
    "X_train, y_train = prepare_data(train.values,time_step)\n",
    "X_test, y_test = prepare_data(test.values, time_step)"
   ]
  },
  {
   "cell_type": "code",
   "execution_count": 15,
   "id": "classified-flight",
   "metadata": {},
   "outputs": [],
   "source": [
    "# reshape input to be [samples, time steps, features] which is required for LSTM\n",
    "X_train =X_train.reshape(X_train.shape[0],X_train.shape[1] , 1)\n",
    "X_test = X_test.reshape(X_test.shape[0],X_test.shape[1] , 1)"
   ]
  },
  {
   "cell_type": "code",
   "execution_count": 16,
   "id": "existing-contrast",
   "metadata": {},
   "outputs": [],
   "source": [
    "model=Sequential()\n",
    "model.add(LSTM(50,return_sequences=True,input_shape=(time_step,1)))\n",
    "model.add(LSTM(50,return_sequences=True))\n",
    "model.add(LSTM(50))\n",
    "model.add(Dense(1))\n",
    "model.compile(loss='mean_squared_error',optimizer='adam')"
   ]
  },
  {
   "cell_type": "code",
   "execution_count": 17,
   "id": "executive-junior",
   "metadata": {},
   "outputs": [
    {
     "name": "stdout",
     "output_type": "stream",
     "text": [
      "Epoch 1/100\n",
      "36/36 [==============================] - 21s 373ms/step - loss: 0.0381\n",
      "Epoch 2/100\n",
      "36/36 [==============================] - 11s 318ms/step - loss: 0.0018\n",
      "Epoch 3/100\n",
      "36/36 [==============================] - 11s 316ms/step - loss: 0.0020\n",
      "Epoch 4/100\n",
      "36/36 [==============================] - 12s 322ms/step - loss: 0.0013\n",
      "Epoch 5/100\n",
      "36/36 [==============================] - 12s 332ms/step - loss: 0.0016\n",
      "Epoch 6/100\n",
      "36/36 [==============================] - 12s 337ms/step - loss: 0.0013\n",
      "Epoch 7/100\n",
      "36/36 [==============================] - 12s 338ms/step - loss: 0.0016\n",
      "Epoch 8/100\n",
      "36/36 [==============================] - 12s 334ms/step - loss: 0.0018\n",
      "Epoch 9/100\n",
      "36/36 [==============================] - 12s 347ms/step - loss: 6.6760e-04\n",
      "Epoch 10/100\n",
      "36/36 [==============================] - 12s 337ms/step - loss: 0.0016\n",
      "Epoch 11/100\n",
      "36/36 [==============================] - 12s 327ms/step - loss: 8.5522e-04\n",
      "Epoch 12/100\n",
      "36/36 [==============================] - 12s 332ms/step - loss: 7.7351e-04\n",
      "Epoch 13/100\n",
      "36/36 [==============================] - 11s 305ms/step - loss: 0.0014\n",
      "Epoch 14/100\n",
      "36/36 [==============================] - 13s 368ms/step - loss: 0.0010\n",
      "Epoch 15/100\n",
      "36/36 [==============================] - 13s 361ms/step - loss: 6.4469e-04\n",
      "Epoch 16/100\n",
      "36/36 [==============================] - 12s 345ms/step - loss: 4.7428e-04\n",
      "Epoch 17/100\n",
      "36/36 [==============================] - 13s 350ms/step - loss: 5.4997e-04\n",
      "Epoch 18/100\n",
      "36/36 [==============================] - 13s 365ms/step - loss: 7.5148e-04\n",
      "Epoch 19/100\n",
      "36/36 [==============================] - 13s 367ms/step - loss: 8.9281e-04\n",
      "Epoch 20/100\n",
      "36/36 [==============================] - 14s 379ms/step - loss: 7.5237e-04\n",
      "Epoch 21/100\n",
      "36/36 [==============================] - 14s 388ms/step - loss: 5.7335e-04\n",
      "Epoch 22/100\n",
      "36/36 [==============================] - 11s 316ms/step - loss: 8.2799e-04\n",
      "Epoch 23/100\n",
      "36/36 [==============================] - 14s 380ms/step - loss: 0.0013\n",
      "Epoch 24/100\n",
      "36/36 [==============================] - 13s 373ms/step - loss: 5.5807e-04\n",
      "Epoch 25/100\n",
      "36/36 [==============================] - 13s 348ms/step - loss: 5.9594e-04\n",
      "Epoch 26/100\n",
      "36/36 [==============================] - 12s 345ms/step - loss: 7.3140e-04\n",
      "Epoch 27/100\n",
      "36/36 [==============================] - 13s 348ms/step - loss: 4.2862e-04\n",
      "Epoch 28/100\n",
      "36/36 [==============================] - 13s 374ms/step - loss: 4.9355e-04\n",
      "Epoch 29/100\n",
      "36/36 [==============================] - 12s 339ms/step - loss: 3.4505e-04\n",
      "Epoch 30/100\n",
      "36/36 [==============================] - 12s 323ms/step - loss: 8.4064e-04\n",
      "Epoch 31/100\n",
      "36/36 [==============================] - 12s 337ms/step - loss: 2.7882e-04\n",
      "Epoch 32/100\n",
      "36/36 [==============================] - 14s 387ms/step - loss: 4.9174e-04\n",
      "Epoch 33/100\n",
      "36/36 [==============================] - 11s 299ms/step - loss: 2.7116e-04\n",
      "Epoch 34/100\n",
      "36/36 [==============================] - 11s 297ms/step - loss: 4.0250e-04\n",
      "Epoch 35/100\n",
      "36/36 [==============================] - 11s 294ms/step - loss: 4.1549e-04\n",
      "Epoch 36/100\n",
      "36/36 [==============================] - 12s 335ms/step - loss: 3.1579e-04\n",
      "Epoch 37/100\n",
      "36/36 [==============================] - 11s 298ms/step - loss: 3.8984e-04\n",
      "Epoch 38/100\n",
      "36/36 [==============================] - 11s 296ms/step - loss: 3.7385e-04\n",
      "Epoch 39/100\n",
      "36/36 [==============================] - 11s 298ms/step - loss: 2.7802e-04\n",
      "Epoch 40/100\n",
      "36/36 [==============================] - 11s 296ms/step - loss: 2.9076e-04\n",
      "Epoch 41/100\n",
      "36/36 [==============================] - 11s 292ms/step - loss: 7.2368e-04\n",
      "Epoch 42/100\n",
      "36/36 [==============================] - 11s 294ms/step - loss: 7.3299e-04\n",
      "Epoch 43/100\n",
      "36/36 [==============================] - 10s 291ms/step - loss: 4.4856e-04\n",
      "Epoch 44/100\n",
      "36/36 [==============================] - 10s 291ms/step - loss: 4.1826e-04\n",
      "Epoch 45/100\n",
      "36/36 [==============================] - 11s 291ms/step - loss: 1.7951e-04\n",
      "Epoch 46/100\n",
      "36/36 [==============================] - 12s 334ms/step - loss: 2.7118e-04\n",
      "Epoch 47/100\n",
      "36/36 [==============================] - 12s 320ms/step - loss: 3.2315e-04\n",
      "Epoch 48/100\n",
      "36/36 [==============================] - 11s 303ms/step - loss: 7.4175e-04\n",
      "Epoch 49/100\n",
      "36/36 [==============================] - 10s 291ms/step - loss: 6.5694e-04\n",
      "Epoch 50/100\n",
      "36/36 [==============================] - 11s 293ms/step - loss: 3.8035e-04\n",
      "Epoch 51/100\n",
      "36/36 [==============================] - 11s 299ms/step - loss: 1.6636e-04\n",
      "Epoch 52/100\n",
      "36/36 [==============================] - 11s 296ms/step - loss: 7.9115e-04\n",
      "Epoch 53/100\n",
      "36/36 [==============================] - 12s 341ms/step - loss: 1.9059e-04\n",
      "Epoch 54/100\n",
      "36/36 [==============================] - 13s 350ms/step - loss: 3.6522e-04\n",
      "Epoch 55/100\n",
      "36/36 [==============================] - 11s 303ms/step - loss: 3.4383e-04\n",
      "Epoch 56/100\n",
      "36/36 [==============================] - 10s 292ms/step - loss: 0.0012\n",
      "Epoch 57/100\n",
      "36/36 [==============================] - 11s 292ms/step - loss: 1.7166e-04\n",
      "Epoch 58/100\n",
      "36/36 [==============================] - 11s 293ms/step - loss: 4.4801e-04\n",
      "Epoch 59/100\n",
      "36/36 [==============================] - 10s 291ms/step - loss: 9.4622e-04\n",
      "Epoch 60/100\n",
      "36/36 [==============================] - 10s 290ms/step - loss: 3.4947e-04\n",
      "Epoch 61/100\n",
      "36/36 [==============================] - 11s 292ms/step - loss: 1.7477e-04\n",
      "Epoch 62/100\n",
      "36/36 [==============================] - 11s 298ms/step - loss: 7.2398e-04\n",
      "Epoch 63/100\n",
      "36/36 [==============================] - 11s 293ms/step - loss: 3.2154e-04\n",
      "Epoch 64/100\n",
      "36/36 [==============================] - 11s 293ms/step - loss: 2.0953e-04\n",
      "Epoch 65/100\n",
      "36/36 [==============================] - 10s 290ms/step - loss: 3.3246e-04\n",
      "Epoch 66/100\n",
      "36/36 [==============================] - 11s 293ms/step - loss: 2.4841e-04\n",
      "Epoch 67/100\n",
      "36/36 [==============================] - 11s 292ms/step - loss: 1.9521e-04\n",
      "Epoch 68/100\n",
      "36/36 [==============================] - 11s 292ms/step - loss: 4.5202e-04\n",
      "Epoch 69/100\n",
      "36/36 [==============================] - 11s 292ms/step - loss: 2.7185e-04\n",
      "Epoch 70/100\n",
      "36/36 [==============================] - 10s 291ms/step - loss: 4.7236e-04\n",
      "Epoch 71/100\n",
      "36/36 [==============================] - 11s 294ms/step - loss: 4.6443e-04\n",
      "Epoch 72/100\n",
      "36/36 [==============================] - 11s 297ms/step - loss: 2.0241e-04\n",
      "Epoch 73/100\n",
      "36/36 [==============================] - 11s 301ms/step - loss: 1.4687e-04\n",
      "Epoch 74/100\n",
      "36/36 [==============================] - 11s 301ms/step - loss: 2.4356e-04\n",
      "Epoch 75/100\n",
      "36/36 [==============================] - 11s 302ms/step - loss: 4.2729e-04\n",
      "Epoch 76/100\n",
      "36/36 [==============================] - 11s 306ms/step - loss: 1.6564e-04\n",
      "Epoch 77/100\n",
      "36/36 [==============================] - 12s 323ms/step - loss: 5.1520e-04\n",
      "Epoch 78/100\n",
      "36/36 [==============================] - 11s 295ms/step - loss: 3.2593e-04\n",
      "Epoch 79/100\n",
      "36/36 [==============================] - 10s 291ms/step - loss: 3.8542e-04\n",
      "Epoch 80/100\n",
      "36/36 [==============================] - 11s 292ms/step - loss: 2.2011e-04\n",
      "Epoch 81/100\n",
      "36/36 [==============================] - 11s 294ms/step - loss: 1.6529e-04\n",
      "Epoch 82/100\n",
      "36/36 [==============================] - 11s 292ms/step - loss: 5.3999e-04\n",
      "Epoch 83/100\n",
      "36/36 [==============================] - 11s 300ms/step - loss: 2.8291e-04\n",
      "Epoch 84/100\n",
      "36/36 [==============================] - 12s 329ms/step - loss: 5.8967e-04\n",
      "Epoch 85/100\n",
      "36/36 [==============================] - 11s 292ms/step - loss: 1.1967e-04\n",
      "Epoch 86/100\n",
      "36/36 [==============================] - 11s 297ms/step - loss: 5.7848e-04\n",
      "Epoch 87/100\n",
      "36/36 [==============================] - 11s 295ms/step - loss: 2.3280e-04\n",
      "Epoch 88/100\n",
      "36/36 [==============================] - 11s 292ms/step - loss: 1.9955e-04\n",
      "Epoch 89/100\n",
      "36/36 [==============================] - 11s 295ms/step - loss: 2.8553e-04\n",
      "Epoch 90/100\n",
      "36/36 [==============================] - 11s 295ms/step - loss: 3.7440e-04\n",
      "Epoch 91/100\n",
      "36/36 [==============================] - 11s 296ms/step - loss: 2.6596e-04\n",
      "Epoch 92/100\n",
      "36/36 [==============================] - 11s 316ms/step - loss: 2.9729e-04\n",
      "Epoch 93/100\n",
      "36/36 [==============================] - 13s 353ms/step - loss: 3.4468e-04\n",
      "Epoch 94/100\n"
     ]
    },
    {
     "name": "stdout",
     "output_type": "stream",
     "text": [
      "36/36 [==============================] - 11s 307ms/step - loss: 3.7048e-04\n",
      "Epoch 95/100\n",
      "36/36 [==============================] - 11s 307ms/step - loss: 3.4520e-04\n",
      "Epoch 96/100\n",
      "36/36 [==============================] - 11s 292ms/step - loss: 9.4368e-04\n",
      "Epoch 97/100\n",
      "36/36 [==============================] - 11s 294ms/step - loss: 6.3634e-04\n",
      "Epoch 98/100\n",
      "36/36 [==============================] - 11s 304ms/step - loss: 2.0997e-04\n",
      "Epoch 99/100\n",
      "36/36 [==============================] - 11s 296ms/step - loss: 2.4337e-04\n",
      "Epoch 100/100\n",
      "36/36 [==============================] - 11s 291ms/step - loss: 1.8458e-04\n"
     ]
    },
    {
     "data": {
      "text/plain": [
       "<tensorflow.python.keras.callbacks.History at 0x28e706c8c48>"
      ]
     },
     "execution_count": 17,
     "metadata": {},
     "output_type": "execute_result"
    }
   ],
   "source": [
    "model.fit(X_train,y_train,epochs=100,batch_size=100)"
   ]
  },
  {
   "cell_type": "code",
   "execution_count": 18,
   "id": "small-wrapping",
   "metadata": {},
   "outputs": [],
   "source": [
    "y_pred = model.predict(X_test)"
   ]
  },
  {
   "cell_type": "code",
   "execution_count": 19,
   "id": "unusual-fountain",
   "metadata": {},
   "outputs": [],
   "source": [
    "# reverse scaling\n",
    "def minmax_reverse(X_norm,X):\n",
    "    return (X_norm * (X.max() - X.min())) + X.min()"
   ]
  },
  {
   "cell_type": "code",
   "execution_count": 20,
   "id": "south-evening",
   "metadata": {},
   "outputs": [],
   "source": [
    "y_pred_actual = minmax_reverse(y_pred,stock)\n",
    "y_test_actual = minmax_reverse(y_test,stock)"
   ]
  },
  {
   "cell_type": "code",
   "execution_count": 21,
   "id": "dedicated-bidder",
   "metadata": {},
   "outputs": [
    {
     "data": {
      "text/plain": [
       "36.07996874912136"
      ]
     },
     "execution_count": 21,
     "metadata": {},
     "output_type": "execute_result"
    }
   ],
   "source": [
    "np.sqrt(mean_squared_error(y_test_actual,y_pred_actual))"
   ]
  },
  {
   "cell_type": "code",
   "execution_count": 22,
   "id": "manufactured-review",
   "metadata": {},
   "outputs": [
    {
     "data": {
      "image/png": "[encoded data removed]",
      "text/plain": [
       "<Figure size 432x288 with 1 Axes>"
      ]
     },
     "metadata": {
      "needs_background": "light"
     },
     "output_type": "display_data"
    }
   ],
   "source": [
    "# plot original and predicted values\n",
    "plt.figure()\n",
    "plt.plot(y_test_actual,label=\"original\")\n",
    "plt.plot(y_pred_actual,label=\"predicted\")\n",
    "plt.legend()\n",
    "plt.show()"
   ]
  },
  {
   "cell_type": "code",
   "execution_count": 23,
   "id": "sunset-daily",
   "metadata": {},
   "outputs": [],
   "source": [
    "n = 200\n",
    "predicted_values = []\n",
    "last_100 = X_test[-1].reshape(1,100,1)\n",
    "\n",
    "while n>=1:\n",
    "  predicted = model.predict(last_100)\n",
    "  predicted_values.append(predicted[0][0])\n",
    "  last_100 = np.append(last_100,predicted)[1:].reshape(1,100,1)\n",
    "  n-=1"
   ]
  },
  {
   "cell_type": "code",
   "execution_count": 24,
   "id": "signal-merchant",
   "metadata": {},
   "outputs": [],
   "source": [
    "forecast = minmax_reverse(np.array(predicted_values),stock)"
   ]
  },
  {
   "cell_type": "code",
   "execution_count": 25,
   "id": "comfortable-grounds",
   "metadata": {},
   "outputs": [
    {
     "data": {
      "text/plain": [
       "array([1414.0277, 1410.067 , 1404.4777, 1399.5066, 1395.7805, 1393.3397,\n",
       "       1391.897 , 1391.0219, 1390.3049, 1389.4586, 1388.3512, 1386.987 ,\n",
       "       1385.4554, 1383.8737, 1382.3383, 1380.9015, 1379.5643, 1378.2886,\n",
       "       1377.0175, 1375.6964, 1374.2883, 1372.7823, 1371.1926, 1369.5536,\n",
       "       1367.9099, 1366.3081, 1364.7894, 1363.3849, 1362.1156, 1360.9916,\n",
       "       1360.016 , 1359.1868, 1358.4984, 1357.9442, 1357.5155, 1357.2028,\n",
       "       1356.9951, 1356.8798, 1356.8424, 1356.8677, 1356.9401, 1357.0436,\n",
       "       1357.164 , 1357.2878, 1357.4044, 1357.5045, 1357.5817, 1357.6312,\n",
       "       1357.6495, 1357.636 , 1357.5896, 1357.5111, 1357.402 , 1357.2644,\n",
       "       1357.1   , 1356.9114, 1356.7007, 1356.4703, 1356.2225, 1355.9587,\n",
       "       1355.6804, 1355.3894, 1355.086 , 1354.7717, 1354.4458, 1354.1096,\n",
       "       1353.763 , 1353.4061, 1353.0394, 1352.6633, 1352.2778, 1351.884 ,\n",
       "       1351.4816, 1351.0719, 1350.6553, 1350.2334, 1349.8066, 1349.3763,\n",
       "       1348.9432, 1348.5085, 1348.0735, 1347.6387, 1347.2048, 1346.773 ,\n",
       "       1346.3434, 1345.9171, 1345.4938, 1345.0742, 1344.6584, 1344.2461,\n",
       "       1343.8374, 1343.4327, 1343.031 , 1342.6323, 1342.2368, 1341.8434,\n",
       "       1341.4521, 1341.0627, 1340.6748, 1340.2876, 1339.9014, 1339.5153,\n",
       "       1339.1294, 1338.7438, 1338.3575, 1337.9711, 1337.5836, 1337.1956,\n",
       "       1336.8065, 1336.4164, 1336.025 , 1335.6327, 1335.2385, 1334.8434,\n",
       "       1334.4464, 1334.0485, 1333.6487, 1333.2474, 1332.8445, 1332.4398,\n",
       "       1332.0337, 1331.6255, 1331.216 , 1330.8047, 1330.3917, 1329.977 ,\n",
       "       1329.5605, 1329.1423, 1328.7227, 1328.3013, 1327.8783, 1327.4537,\n",
       "       1327.0277, 1326.6003, 1326.1715, 1325.7411, 1325.3096, 1324.8768,\n",
       "       1324.4427, 1324.0073, 1323.5709, 1323.133 , 1322.6941, 1322.2543,\n",
       "       1321.8129, 1321.3708, 1320.9275, 1320.4832, 1320.0378, 1319.5913,\n",
       "       1319.1437, 1318.6951, 1318.2452, 1317.7944, 1317.3427, 1316.8896,\n",
       "       1316.4354, 1315.9803, 1315.524 , 1315.0664, 1314.608 , 1314.1482,\n",
       "       1313.6875, 1313.2255, 1312.7622, 1312.2981, 1311.8325, 1311.3656,\n",
       "       1310.8975, 1310.4282, 1309.9576, 1309.4861, 1309.0128, 1308.5386,\n",
       "       1308.0631, 1307.5862, 1307.1084, 1306.6288, 1306.1481, 1305.6656,\n",
       "       1305.1824, 1304.6979, 1304.2117, 1303.7245, 1303.2357, 1302.7457,\n",
       "       1302.2546, 1301.762 , 1301.268 , 1300.7725, 1300.2755, 1299.7776,\n",
       "       1299.2782, 1298.7772, 1298.275 , 1297.7715, 1297.2664, 1296.7601,\n",
       "       1296.2524, 1295.7433], dtype=float32)"
      ]
     },
     "execution_count": 25,
     "metadata": {},
     "output_type": "execute_result"
    }
   ],
   "source": [
    "forecast"
   ]
  },
  {
   "cell_type": "code",
   "execution_count": 26,
   "id": "hearing-title",
   "metadata": {},
   "outputs": [
    {
     "data": {
      "image/png": "[encoded data removed]",
      "text/plain": [
       "<Figure size 432x288 with 1 Axes>"
      ]
     },
     "metadata": {
      "needs_background": "light"
     },
     "output_type": "display_data"
    }
   ],
   "source": [
    "plt.figure()\n",
    "plt.plot(stock.index,stock)\n",
    "plt.plot(np.arange(5204,5404),forecast)\n",
    "plt.show()"
   ]
  },
  {
   "cell_type": "code",
   "execution_count": null,
   "id": "second-standing",
   "metadata": {},
   "outputs": [],
   "source": []
  }
 ],
 "metadata": {
  "kernelspec": {
   "display_name": "Python 3",
   "language": "python",
   "name": "python3"
  },
  "language_info": {
   "codemirror_mode": {
    "name": "ipython",
    "version": 3
   },
   "file_extension": ".py",
   "mimetype": "text/x-python",
   "name": "python",
   "nbconvert_exporter": "python",
   "pygments_lexer": "ipython3",
   "version": "3.7.4"
  }
 },
 "nbformat": 4,
 "nbformat_minor": 5
}
